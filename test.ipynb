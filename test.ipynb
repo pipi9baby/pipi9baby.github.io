{
 "cells": [
  {
   "cell_type": "code",
   "execution_count": 1,
   "metadata": {},
   "outputs": [],
   "source": [
    "import xml.etree.ElementTree as ET\n",
    "import pandas as pd\n",
    "import numpy as np\n",
    "import plotly.express as px\n",
    "import plotly.graph_objects as go"
   ]
  },
  {
   "cell_type": "markdown",
   "metadata": {},
   "source": [
    "## Sleep Accuracy"
   ]
  },
  {
   "cell_type": "code",
   "execution_count": 2,
   "metadata": {},
   "outputs": [],
   "source": [
    "import pandas as pd\n",
    "\n",
    "results_list = []\n",
    "XTIMER_BACKOFFS=[40, 30, 22]\n",
    "for i, backoff in enumerate(XTIMER_BACKOFFS, start=1):\n",
    "    file = f\"data/sleep_accuracy/xunit_xtimer_usleep_set_XTIMER_BACKOFF_{backoff}_now.xml\"\n",
    "    root = ET.parse(file).getroot()\n",
    "\n",
    "    for d in root.find(\"testcase[@name='Measure Xtimer Set Accuracy Microseconds Template']\").findall(\".//property\"):\n",
    "        duration = d.get(\"name\").split('-')[-1]\n",
    "        results = [float(v[\"diff\"]) - (int(duration) / 1000_000) for v in eval(d.get(\"value\"))]    # diff from sleep time\n",
    "        results_list.append({\n",
    "            'type': 'xtimer_set',\n",
    "            'backoff': backoff,\n",
    "            'duration': duration,\n",
    "            'results': results,\n",
    "            'mean': np.mean(results),\n",
    "            'max': np.amax(results),\n",
    "            'min': np.amin(results)\n",
    "        })\n",
    "    \n",
    "\n",
    "    for d in root.find(\"testcase[@name='Measure Xtimer Usleep Accuracy Microseconds Template']\").findall(\".//property\"):\n",
    "        duration = d.get(\"name\").split('-')[-1]\n",
    "        results = [float(v[\"diff\"]) - (int(duration) / 1000_000) for v in eval(d.get(\"value\"))]    # diff from sleep time\n",
    "        results_list.append({\n",
    "            'type': 'xtimer_usleep',\n",
    "            'backoff': backoff,\n",
    "            'duration': duration,\n",
    "            'results': results,\n",
    "            'mean': np.mean(results),\n",
    "            'max': np.amax(results),\n",
    "            'min': np.amin(results)\n",
    "        })\n",
    "\n",
    "sleep_accuracy = pd.DataFrame.from_dict(results_list)\n"
   ]
  },
  {
   "cell_type": "code",
   "execution_count": 196,
   "metadata": {},
   "outputs": [
    {
     "output_type": "display_data",
     "data": {
      "text/plain": "FigureWidget({\n    'data': [{'name': 'xtimer_set / 40',\n              'type': 'scatter',\n              'uid': …",
      "application/vnd.jupyter.widget-view+json": {
       "version_major": 2,
       "version_minor": 0,
       "model_id": "0e3d72fb6dd44c8da0efd01c4d39394b"
      }
     },
     "metadata": {}
    }
   ],
   "source": [
    "xtimer_set_traces = []\n",
    "xtimer_usleep_traces = []\n",
    "for backoff in sleep_accuracy['backoff'].unique():\n",
    "    xtimer_set = sleep_accuracy.loc[sleep_accuracy['type'] == 'xtimer_set']\n",
    "    data = xtimer_set[xtimer_set['backoff'] == backoff]\n",
    "    xtimer_set_traces.append(go.Scatter(x=data['duration'], y=data['mean'], name=f'xtimer_set / {backoff}'))\n",
    "\n",
    "    xtimer_set = sleep_accuracy.loc[sleep_accuracy['type'] == 'xtimer_usleep']\n",
    "    data = xtimer_set[xtimer_set['backoff'] == backoff]\n",
    "    xtimer_usleep_traces.append(go.Scatter(x=data['duration'], y=data['mean'], name=f'xtimer_usleep / {backoff}'))\n",
    "\n",
    "\n",
    "sleep_accuracy_fig = go.Figure()\n",
    "sleep_accuracy_fig.add_traces(xtimer_set_traces)\n",
    "sleep_accuracy_fig.add_traces(xtimer_usleep_traces)\n",
    "sleep_accuracy_fig.update_layout(\n",
    "    title=\"Sleep Accuracy with multiple XTIMER_BACKOFF\",\n",
    "    xaxis_title=\"Specified Sleep Duration [us]\",\n",
    "    yaxis_title=\"Real Sleep Duration [s]\",\n",
    ")\n",
    "\n",
    "# # add range slider\n",
    "# sleep_accuracy_fig.update_layout(\n",
    "#     xaxis=dict(\n",
    "#         rangeslider=dict(\n",
    "#             visible=True,\n",
    "#         )\n",
    "#     )\n",
    "# )\n",
    "\n",
    "# sleep_accuracy_fig.update_layout(\n",
    "#     legend=dict(orientation=\"h\",yanchor=\"bottom\",y=0.99)\n",
    "# )\n",
    "sleep_accuracy_fig.write_html(\"docs/sleep_accuracy.html\")\n",
    "go.FigureWidget(sleep_accuracy_fig)"
   ]
  },
  {
   "cell_type": "markdown",
   "metadata": {},
   "source": [
    "## Sleep Jitter"
   ]
  },
  {
   "cell_type": "code",
   "execution_count": 169,
   "metadata": {
    "tags": []
   },
   "outputs": [],
   "source": [
    "suffix = \"10-durch1\"\n",
    "file = f\"data/sleep_jitter/xunit.xml\"\n",
    "root = ET.parse(file).getroot()\n",
    "\n",
    "sleep_jitter = pd.DataFrame()\n",
    "for testcase in root.findall(\"testcase[@classname='tests_gpio_overhead.Sleep Jitter']\"):\n",
    "    duration = DURATION\n",
    "    traces = {}\n",
    "    for d in testcase.findall('.//property'):\n",
    "        name = d.get('name').split('-')\n",
    "        # if name[-1] == 'focus':\n",
    "        #     intervals = int(int(eval(d.get('value'))[0]) / 1000000)\n",
    "        if 'intervals' in name:\n",
    "                intervals = list(map(lambda i: int(i), eval(d.get('value'))))\n",
    "        elif 'trace' in name:\n",
    "            repeat_count = int(name[-1])\n",
    "            traces[repeat_count] = eval(d.get('value'))\n",
    "\n",
    "    for n in traces.keys():\n",
    "        sleep_jitter = sleep_jitter.append(\n",
    "            pd.DataFrame.from_dict({\n",
    "                'repeat_count': n,\n",
    "                # 'time': [i for i in range(1, len(traces[n]) + 1)],\n",
    "                'trace_milli': map(lambda x: x * 1000, traces[n]),\n",
    "                'background_timers': [len(intervals)] * len(traces[n]),\n",
    "        }))\n",
    "# sleep_jitter"
   ]
  },
  {
   "cell_type": "code",
   "execution_count": 168,
   "metadata": {
    "tags": []
   },
   "outputs": [
    {
     "output_type": "display_data",
     "data": {
      "text/plain": "FigureWidget({\n    'data': [{'alignmentgroup': 'True',\n              'box': {'visible': False},\n              …",
      "application/vnd.jupyter.widget-view+json": {
       "version_major": 2,
       "version_minor": 0,
       "model_id": "9db3248039374b96b5fd95978777ab07"
      }
     },
     "metadata": {}
    }
   ],
   "source": [
    "# sleep jitter stats min/max/avg/std\n",
    "\n",
    "sleep_jitter_stats_fig = px.violin(sleep_jitter, x='background_timers', y='trace_milli',\n",
    "    points='all',\n",
    "    color='background_timers',\n",
    "    orientation='v',\n",
    "    title=f\"Sleep Jitter Statistics {suffix}\",\n",
    "    labels={\n",
    "        \"trace\": \"Sleep Duration (Seconds)\",\n",
    "        \"trace_milli\": \"Sleep Duration (Milliseconds)\",\n",
    "        \"background_timers\": \"No. Background Timers\",\n",
    "        \"count\": \"Sample Percentage\",\n",
    "    },\n",
    ")\n",
    "# sleep_jitter_stats_fig.update_layout(\n",
    "#     legend=dict(orientation=\"h\", yanchor=\"bottom\", y=0.99),\n",
    "# )\n",
    "\n",
    "# sleep_jitter_stats_fig.write_html(f'docs/sleep_jitter_stats_{suffix}.html')\n",
    "go.FigureWidget(sleep_jitter_stats_fig)\n",
    "    "
   ]
  },
  {
   "cell_type": "code",
   "execution_count": 194,
   "metadata": {},
   "outputs": [
    {
     "output_type": "display_data",
     "data": {
      "text/plain": "FigureWidget({\n    'data': [{'alignmentgroup': 'True',\n              'bingroup': 'x',\n              'histnorm'…",
      "application/vnd.jupyter.widget-view+json": {
       "version_major": 2,
       "version_minor": 0,
       "model_id": "ac8f50aa0af647b6a702de4996b3f5a9"
      }
     },
     "metadata": {}
    }
   ],
   "source": [
    "# sleep jitter stats min/max/avg/std\n",
    "\n",
    "sleep_jitter_stats_fig = px.histogram(sleep_jitter, x='trace_milli',\n",
    "    marginal='rug',\n",
    "    histnorm='percent',\n",
    "    color='background_timers',\n",
    "    title=f\"Sleep Jitter Statistics {suffix}\",\n",
    "    labels={\n",
    "        \"trace\": \"Sleep Duration (Seconds)\",\n",
    "        \"trace_milli\": \"Sleep Duration (Milliseconds)\",\n",
    "        \"background_timers\": \"No. Background Timers\",\n",
    "        \"count\": \"Sample Percentage\",\n",
    "    },\n",
    ")\n",
    "# sleep_jitter_stats_fig.update_layout(\n",
    "#     legend=dict(orientation=\"h\", yanchor=\"bottom\", y=0.99),\n",
    "# )\n",
    "\n",
    "# sleep_jitter_stats_fig.write_html(f'docs/sleep_jitter_stats_{suffix}.html')\n",
    "go.FigureWidget(sleep_jitter_stats_fig)\n",
    "    "
   ]
  },
  {
   "cell_type": "code",
   "execution_count": 191,
   "metadata": {
    "tags": []
   },
   "outputs": [],
   "source": [
    "sleep_jitters = {}\n",
    "for divisor in [1, 10, 100, 1000]:\n",
    "    file = f\"data/sleep_jitter/old/xunit-10-durch{divisor}.xml\"\n",
    "    root = ET.parse(file).getroot()\n",
    "\n",
    "    df = pd.DataFrame()\n",
    "    for testcase in root.findall(\"testcase[@classname='tests_gpio_overhead.Sleep Jitter']\"):\n",
    "        duration = DURATION\n",
    "        traces = {}\n",
    "        for d in testcase.findall('.//property'):\n",
    "            name = d.get('name').split('-')\n",
    "            # if name[-1] == 'focus':\n",
    "            #     intervals = int(int(eval(d.get('value'))[0]) / 1000000)\n",
    "            if 'intervals' in name:\n",
    "                intervals = list(map(lambda i: int(i), eval(d.get('value'))))\n",
    "            elif 'trace' in name:\n",
    "                repeat_count = int(name[-1])\n",
    "                traces[repeat_count] = eval(d.get('value'))[2:]\n",
    "\n",
    "        for n in traces.keys():\n",
    "            df = df.append(pd.DataFrame.from_dict({\n",
    "                    'repeat_count': n,\n",
    "                    'trace': traces[n],\n",
    "                    'trace_milli': map(lambda x : x * 1000, traces[n]),\n",
    "                    'background_timers': [len(intervals)] * len(traces[n]),\n",
    "            }))\n",
    "        sleep_jitters[divisor] = df"
   ]
  },
  {
   "cell_type": "code",
   "execution_count": 180,
   "metadata": {},
   "outputs": [
    {
     "output_type": "display_data",
     "data": {
      "text/plain": "FigureWidget({\n    'data': [{'name': '1',\n              'type': 'violin',\n              'uid': '058fae92-7bce-…",
      "application/vnd.jupyter.widget-view+json": {
       "version_major": 2,
       "version_minor": 0,
       "model_id": "20e2d80217b648b5b483d7869b72a4b4"
      }
     },
     "metadata": {}
    }
   ],
   "source": [
    "from plotly.subplots import make_subplots\n",
    "\n",
    "sleep_jitter_combined_figs = go.Figure()\n",
    "\n",
    "for divisor in sleep_jitters.keys():\n",
    "    sleep_jitter_combined_figs.add_trace(go.Violin(\n",
    "        x=sleep_jitters[divisor]['background_timers'],\n",
    "        y=sleep_jitters[divisor]['trace_milli'],\n",
    "        name=divisor,\n",
    "    ))\n",
    "\n",
    "sleep_jitter_combined_figs.update_layout(\n",
    "    title_text=\"Sleep Jitters Combined\",\n",
    "    legend_title_text='Inteval Divisor',\n",
    "    xaxis=dict(\n",
    "        title=\"No. Background Timers\",\n",
    "    ),\n",
    "    yaxis=dict(\n",
    "        title=\"Sleep Duration (Milliseconds)\"\n",
    "    )\n",
    "    \n",
    ")\n",
    "# sleep_jitter_combined_figs.write_html('docs/sleep_jitter_stats_combined.html')\n",
    "go.FigureWidget(sleep_jitter_combined_figs)"
   ]
  }
 ],
 "metadata": {
  "kernelspec": {
   "display_name": "Python 3.8.2 64-bit ('ba-plotscripts': pipenv)",
   "language": "python",
   "name": "python38264bitbaplotscriptspipenvb2206a7588e54615abb6f4369c58a009"
  },
  "language_info": {
   "codemirror_mode": {
    "name": "ipython",
    "version": 3
   },
   "file_extension": ".py",
   "mimetype": "text/x-python",
   "name": "python",
   "nbconvert_exporter": "python",
   "pygments_lexer": "ipython3",
   "version": "3.8.2-final"
  }
 },
 "nbformat": 4,
 "nbformat_minor": 4
}